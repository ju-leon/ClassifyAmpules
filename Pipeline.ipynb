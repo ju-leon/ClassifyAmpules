{
 "cells": [
  {
   "cell_type": "code",
   "execution_count": null,
   "metadata": {},
   "outputs": [],
   "source": [
    "!git clone https://github.com/ju-leon/ClassifyAmpules.git\n",
    "%cd ClassifyAmpules"
   ]
  },
  {
   "cell_type": "markdown",
   "metadata": {},
   "source": [
    "# Preprocessing\n",
    "\n",
    "First, we need to scale down our data. "
   ]
  },
  {
   "cell_type": "code",
   "execution_count": 2,
   "metadata": {},
   "outputs": [
    {
     "name": "stdout",
     "output_type": "stream",
     "text": [
      "  1%|▎                                      | 13/1681 [00:30<1:05:21,  2.35s/it]^C\n"
     ]
    }
   ],
   "source": [
    "!python3 preprocess.py --in_dir=\"/Users/leon/Google Drive/Hackaton/PIM_Dataset/bad_piece/\" --out_dir=\"/Users/leon/Google Drive/Hackaton/cache/bad_piece/\""
   ]
  },
  {
   "cell_type": "markdown",
   "metadata": {},
   "source": [
    "# Combining\n",
    "\n",
    "Now we combine 3 images into one."
   ]
  },
  {
   "cell_type": "code",
   "execution_count": 3,
   "metadata": {},
   "outputs": [
    {
     "name": "stdout",
     "output_type": "stream",
     "text": [
      "100%|███████████████████████████████████████| 14/14 [00:00<00:00, 128490.71it/s]\n",
      "100%|███████████████████████████████████████████| 13/13 [00:01<00:00, 11.49it/s]\n"
     ]
    }
   ],
   "source": [
    "!python3 combine.py --in_dir=\"/Users/leon/Google Drive/Hackaton/cache/bad_piece/\" --out_dir=\"/Users/leon/Google Drive/Hackaton/out/bad_piece/\""
   ]
  },
  {
   "cell_type": "markdown",
   "metadata": {},
   "source": [
    "# Training"
   ]
  },
  {
   "cell_type": "code",
   "execution_count": 7,
   "metadata": {},
   "outputs": [
    {
     "name": "stdout",
     "output_type": "stream",
     "text": [
      "Using TensorFlow backend.\n",
      "Found 0 images belonging to 0 classes.\n",
      "Found 0 images belonging to 0 classes.\n",
      "(100, 100, 3)\n",
      "/Users/leon/opt/anaconda3/lib/python3.7/site-packages/keras_applications/mobilenet.py:207: UserWarning: `input_shape` is undefined or non-square, or `rows` is not in [128, 160, 192, 224]. Weights for input shape (224, 224) will be loaded as the default.\n",
      "  warnings.warn('`input_shape` is undefined or non-square, '\n",
      "WARNING:tensorflow:From /Users/leon/opt/anaconda3/lib/python3.7/site-packages/tensorflow_core/python/ops/resource_variable_ops.py:1630: calling BaseResourceVariable.__init__ (from tensorflow.python.ops.resource_variable_ops) with constraint is deprecated and will be removed in a future version.\n",
      "Instructions for updating:\n",
      "If using Keras pass *_constraint arguments to layers.\n",
      "2020-07-02 21:48:32.777740: I tensorflow/core/platform/cpu_feature_guard.cc:145] This TensorFlow binary is optimized with Intel(R) MKL-DNN to use the following CPU instructions in performance critical operations:  SSE4.1 SSE4.2 AVX AVX2 FMA\n",
      "To enable them in non-MKL-DNN operations, rebuild TensorFlow with the appropriate compiler flags.\n",
      "2020-07-02 21:48:32.778119: I tensorflow/core/common_runtime/process_util.cc:115] Creating new thread pool with default inter op setting: 8. Tune using inter_op_parallelism_threads for best performance.\n",
      "Downloading data from https://github.com/fchollet/deep-learning-models/releases/download/v0.6/mobilenet_1_0_224_tf_no_top.h5\n",
      "17227776/17225924 [==============================] - 2s 0us/step\n",
      "^C\n",
      "Traceback (most recent call last):\n",
      "  File \"train.py\", line 148, in <module>\n",
      "    main()\n",
      "  File \"train.py\", line 134, in main\n",
      "    classifier = get_classifier(input_shape)\n",
      "  File \"train.py\", line 57, in get_classifier\n",
      "    weights=\"imagenet\",\n",
      "  File \"/Users/leon/opt/anaconda3/lib/python3.7/site-packages/keras/applications/__init__.py\", line 20, in wrapper\n",
      "    return base_fun(*args, **kwargs)\n",
      "  File \"/Users/leon/opt/anaconda3/lib/python3.7/site-packages/keras/applications/mobilenet.py\", line 11, in MobileNet\n",
      "    return mobilenet.MobileNet(*args, **kwargs)\n",
      "  File \"/Users/leon/opt/anaconda3/lib/python3.7/site-packages/keras_applications/mobilenet.py\", line 296, in MobileNet\n",
      "    model.load_weights(weights_path)\n",
      "  File \"/Users/leon/opt/anaconda3/lib/python3.7/site-packages/keras/engine/saving.py\", line 492, in load_wrapper\n",
      "    return load_function(*args, **kwargs)\n",
      "  File \"/Users/leon/opt/anaconda3/lib/python3.7/site-packages/keras/engine/network.py\", line 1230, in load_weights\n",
      "    f, self.layers, reshape=reshape)\n",
      "  File \"/Users/leon/opt/anaconda3/lib/python3.7/site-packages/keras/engine/saving.py\", line 1237, in load_weights_from_hdf5_group\n",
      "    K.batch_set_value(weight_value_tuples)\n",
      "  File \"/Users/leon/opt/anaconda3/lib/python3.7/site-packages/keras/backend/tensorflow_backend.py\", line 2960, in batch_set_value\n"
     ]
    }
   ],
   "source": [
    "!python3 train.py --data_dir=\"/Users/leon/Google Drive/Hackaton/out/bad_piece/\""
   ]
  },
  {
   "cell_type": "code",
   "execution_count": null,
   "metadata": {},
   "outputs": [],
   "source": []
  }
 ],
 "metadata": {
  "kernelspec": {
   "display_name": "Python 3",
   "language": "python",
   "name": "python3"
  },
  "language_info": {
   "codemirror_mode": {
    "name": "ipython",
    "version": 3
   },
   "file_extension": ".py",
   "mimetype": "text/x-python",
   "name": "python",
   "nbconvert_exporter": "python",
   "pygments_lexer": "ipython3",
   "version": "3.7.7"
  }
 },
 "nbformat": 4,
 "nbformat_minor": 4
}
